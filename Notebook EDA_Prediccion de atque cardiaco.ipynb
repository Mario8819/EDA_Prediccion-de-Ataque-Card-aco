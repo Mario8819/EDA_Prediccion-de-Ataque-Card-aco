{
 "cells": [
  {
   "cell_type": "markdown",
   "id": "ecb04e14",
   "metadata": {},
   "source": [
    "# EDA_ Prediccion de ataque cardiaco"
   ]
  },
  {
   "cell_type": "code",
   "execution_count": null,
   "id": "ce0c1e78",
   "metadata": {},
   "outputs": [],
   "source": []
  }
 ],
 "metadata": {
  "kernelspec": {
   "display_name": "Python 3",
   "language": "python",
   "name": "python3"
  },
  "language_info": {
   "name": "python",
   "version": "3.10.11"
  }
 },
 "nbformat": 4,
 "nbformat_minor": 5
}
