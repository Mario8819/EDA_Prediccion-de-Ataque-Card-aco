{
 "cells": [
  {
   "cell_type": "markdown",
   "id": "34189453",
   "metadata": {},
   "source": [
    "## Análisis Exploratorio de Datos (EDA) - Riesgo de Ataque Cardíaco\n",
    "\n",
    "Este proyecto consiste en un análisis exploratorio exhaustivo sobre un conjunto de datos de salud con el objetivo de identificar los principales factores asociados al riesgo de ataque cardíaco.\n",
    "\n",
    "A través de técnicas estadísticas y visualizaciones, se han detectado patrones relevantes que pueden ayudar en la prevención y manejo de enfermedades cardiovasculares. El trabajo destaca cómo variables como los niveles de colesterol, triglicéridos, tabaquismo, diabetes y género influyen en el riesgo cardiovascular.\n",
    "\n",
    "### Objetivo\n",
    "Investigar y visualizar las relaciones entre distintos factores de salud y su impacto en el riesgo de sufrir un ataque cardíaco, con el fin de generar recomendaciones preventivas.\n",
    "\n",
    "### Tecnologías utilizadas\n",
    "\n",
    "Python 3\n",
    "\n",
    "Pandas para manejo y análisis de datos\n",
    "\n",
    "NumPy para cálculos numéricos\n",
    "\n",
    "Matplotlib y Seaborn para visualizaciones gráficas\n",
    "\n",
    "Jupyter Notebook como entorno interactivo de desarrollo\n",
    "\n",
    "### Principales resultados\n",
    "El colesterol y los triglicéridos elevados son los factores más asociados al riesgo.\n",
    "\n",
    "El tabaquismo y la diabetes combinados aumentan significativamente la probabilidad de sufrir un ataque cardíaco.\n",
    "\n",
    "Se evidencia mayor riesgo en hombres, especialmente en aquellos con diabetes.\n",
    "\n",
    "La dieta y la obesidad también juegan un papel clave en la salud cardiovascular.\n",
    "\n",
    "### Estructura del proyecto\n",
    "EDA_Heart_Attack.ipynb: Notebook principal con todo el análisis paso a paso.\n",
    "\n",
    "data/: Carpeta donde se encuentra el dataset utilizado.\n",
    "\n",
    "images/: Gráficos generados durante el análisis."
   ]
  }
 ],
 "metadata": {
  "kernelspec": {
   "display_name": "Python 3",
   "language": "python",
   "name": "python3"
  },
  "language_info": {
   "name": "python",
   "version": "3.10.11"
  }
 },
 "nbformat": 4,
 "nbformat_minor": 5
}
